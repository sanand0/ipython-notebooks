{
 "cells": [
  {
   "cell_type": "markdown",
   "metadata": {},
   "source": [
    "# Outlook Mail De-duplication\n",
    "\n",
    "I had a bunch of duplicate emails in my Outlook folder. This script prints all such duplicates as tab-delimited file."
   ]
  },
  {
   "cell_type": "code",
   "execution_count": null,
   "metadata": {},
   "outputs": [],
   "source": [
    "import win32com.client\n",
    "from collections import defaultdict\n",
    "import pandas as pd\n",
    "import pywintypes\n",
    "\n",
    "# Path to the PST file\n",
    "pst_file_path = r\"C:\\Anand\\Mail\\Gramener-archive.pst\"\n",
    "pst_folder_name = \"Gramener-Archive\"\n",
    "pst_subfolder_name = \"Archive\"\n",
    "\n",
    "\n",
    "def process_folder(folder, email_dict):\n",
    "    for item in folder.Items:\n",
    "        if item.Class == 43:  # MailItem class\n",
    "            # Use a tuple of (sender, subject, timestamp) as the key\n",
    "            try:\n",
    "                body = item.Body[:50] if item.Body else \"\"\n",
    "                key = (item.SenderName, item.Subject, item.ReceivedTime, body)\n",
    "                email_dict[key].append((item.EntryID, item.Size))\n",
    "                if len(email_dict[key]) > 1:\n",
    "                    print(\"\\t\".join((len(email_dict[key]) - 1, item.EntryID, item.SenderName, item.Subject, item.ReceivedTime, body, item.Size)))\n",
    "            except pywintypes.com_error:\n",
    "                pass\n",
    "\n",
    "\n",
    "def find_duplicates():\n",
    "    outlook = win32com.client.Dispatch(\"Outlook.Application\").GetNamespace(\"MAPI\")\n",
    "\n",
    "    # Add the PST file to the current Outlook profile if it's not already loaded\n",
    "    try:\n",
    "        outlook.AddStore(pst_file_path)\n",
    "    except:\n",
    "        pass  # The PST file might already be loaded\n",
    "\n",
    "    # Access the archive folder\n",
    "    archive_folder = None\n",
    "    for folder in outlook.Folders:\n",
    "        for subfolder in folder.Folders:\n",
    "            if folder.Name == pst_folder_name and subfolder.Name == pst_subfolder_name:\n",
    "                archive_folder = subfolder\n",
    "                break\n",
    "        if archive_folder:\n",
    "            break\n",
    "\n",
    "    if not archive_folder:\n",
    "        print(f\"Folder '{pst_folder_name}' not found.\")\n",
    "        return\n",
    "\n",
    "    email_dict = defaultdict(list)\n",
    "\n",
    "    # Process the archive folder and its sub-folders\n",
    "    process_folder(archive_folder, email_dict)\n",
    "\n",
    "find_duplicates()"
   ]
  },
  {
   "cell_type": "markdown",
   "metadata": {},
   "source": [
    "Then I manually edited the output, placed it into a CSV file with columns:\n",
    "\n",
    "- `count` -- the duplicate count, i.e. 0 for the first entry, 1 for the second, and so on\n",
    "- `id` -- the Entry ID\n",
    "- ... any other fields.\n",
    "\n",
    "Then I run the following to delete duplicates."
   ]
  },
  {
   "cell_type": "code",
   "execution_count": null,
   "metadata": {},
   "outputs": [],
   "source": [
    "import pandas as pd\n",
    "import win32com.client\n",
    "\n",
    "# Read the CSV file\n",
    "df = pd.read_csv('duplicates.csv')\n",
    "\n",
    "# Filter rows where the \"count\" column is greater than 0\n",
    "filtered_df = df[df['count'] > 0]\n",
    "\n",
    "# Initialize Outlook application\n",
    "outlook = win32com.client.Dispatch(\"Outlook.Application\").GetNamespace(\"MAPI\")\n",
    "\n",
    "# Iterate through filtered rows and delete the corresponding emails\n",
    "for index, row in filtered_df.iterrows():\n",
    "    mail = outlook.GetItemFromID(row['id'])\n",
    "    mail.Delete()\n",
    "    print(index, f\"Deleted email with ID: {row['id']}\")\n"
   ]
  }
 ],
 "metadata": {
  "language_info": {
   "name": "python"
  }
 },
 "nbformat": 4,
 "nbformat_minor": 2
}
