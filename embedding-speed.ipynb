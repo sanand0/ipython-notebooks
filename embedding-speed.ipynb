{
 "cells": [
  {
   "cell_type": "markdown",
   "metadata": {},
   "source": [
    "# Cosine similarity speed\n",
    "\n",
    "Calculating the dot product of a 512-dimensional vector with a matrix of 1M vectors takes ~0.05 seconds.\n",
    "\n",
    "The time increases linearly with the number of vectors."
   ]
  },
  {
   "cell_type": "code",
   "execution_count": 3,
   "metadata": {},
   "outputs": [
    {
     "name": "stdout",
     "output_type": "stream",
     "text": [
      "Size: 100, Time: 5.910000000142191e-06 seconds\n",
      "Size: 1000, Time: 1.4350000000717955e-05 seconds\n",
      "Size: 10000, Time: 0.0005769299999997202 seconds\n",
      "Size: 100000, Time: 0.006369789999999398 seconds\n",
      "Size: 1000000, Time: 0.06267658000000012 seconds\n"
     ]
    }
   ],
   "source": [
    "import numpy as np\n",
    "import time\n",
    "\n",
    "np.random.seed(42)\n",
    "\n",
    "base_vector = np.random.random(512).astype(np.float32)\n",
    "base_vector = base_vector / np.linalg.norm(base_vector)\n",
    "\n",
    "target_sizes = [100, 1_000, 10_000, 100_000, 1_000_000]\n",
    "\n",
    "for size in target_sizes:\n",
    "    target_vectors = np.random.random((size, base_vector.shape[0])).astype(np.float32)\n",
    "    norms = np.linalg.norm(target_vectors, axis=1)\n",
    "    target_vectors = target_vectors / norms[:, np.newaxis]\n",
    "\n",
    "    # warm-up\n",
    "    np.dot(target_vectors, base_vector)\n",
    "\n",
    "    num_runs = 10\n",
    "    start_time = time.perf_counter()\n",
    "    for _ in range(num_runs):\n",
    "        np.dot(target_vectors, base_vector)\n",
    "    end_time = time.perf_counter()\n",
    "    print(f\"Size: {size}, Time: {(end_time - start_time) / num_runs} seconds\")"
   ]
  }
 ],
 "metadata": {
  "kernelspec": {
   "display_name": "gramex39",
   "language": "python",
   "name": "python3"
  },
  "language_info": {
   "codemirror_mode": {
    "name": "ipython",
    "version": 3
   },
   "file_extension": ".py",
   "mimetype": "text/x-python",
   "name": "python",
   "nbconvert_exporter": "python",
   "pygments_lexer": "ipython3",
   "version": "3.9.13"
  }
 },
 "nbformat": 4,
 "nbformat_minor": 2
}
