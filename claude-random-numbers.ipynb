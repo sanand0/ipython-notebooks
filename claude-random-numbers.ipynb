{
 "cells": [
  {
   "cell_type": "markdown",
   "metadata": {},
   "source": [
    "# Claude Random Number Picker\n",
    "\n",
    "Inspired by this [Information is Beautiful viz on what random number ChatGPT guesses](https://twitter.com/infobeautiful/status/1778059112250589561), I tried the same with Claude 3 Haiku."
   ]
  },
  {
   "cell_type": "code",
   "execution_count": 1,
   "metadata": {},
   "outputs": [],
   "source": [
    "import os\n",
    "\n",
    "api_key = os.environ.get(\"ANTHROPIC_API_KEY\")"
   ]
  },
  {
   "cell_type": "code",
   "execution_count": 28,
   "metadata": {},
   "outputs": [],
   "source": [
    "import os\n",
    "import json\n",
    "import httpx\n",
    "\n",
    "\n",
    "# If we have prior cached data, load it\n",
    "data = {}\n",
    "if os.path.exists(\"claude-random.json\"):\n",
    "    with open(\"claude-random.json\", \"r\") as f:\n",
    "        data = json.load(f)\n",
    "\n",
    "for attempt in range(0, 200):\n",
    "    for t in range(100, -1, -10):\n",
    "        temperature = t / 100\n",
    "        key = f\"T={temperature:.2f},#{attempt}\"\n",
    "        if key in data:\n",
    "            continue\n",
    "        r = httpx.post(\"https://api.anthropic.com/v1/messages\", headers={\n",
    "            \"x-api-key\": api_key,\n",
    "            \"anthropic-version\": \"2023-06-01\",\n",
    "            \"content-type\": \"application/json\",\n",
    "        }, json={\n",
    "          \"model\": \"claude-3-haiku-20240307\",\n",
    "          \"max_tokens\": 2,\n",
    "          \"temperature\": temperature,\n",
    "          \"messages\": [\n",
    "              {\"role\": \"user\", \"content\": \"Pick a random number from 0 - 100. Write ONLY the number NOTHING ELSE\"}\n",
    "          ]\n",
    "        })\n",
    "        r.raise_for_status()\n",
    "        data[key] = r.json()[\"content\"][0][\"text\"]\n",
    "        with open(\"claude-random.json\", \"w\") as f:\n",
    "            json.dump(data, f, sort_keys=True)"
   ]
  },
  {
   "cell_type": "code",
   "execution_count": 29,
   "metadata": {},
   "outputs": [
    {
     "data": {
      "text/html": [
       "<div>\n",
       "<style scoped>\n",
       "    .dataframe tbody tr th:only-of-type {\n",
       "        vertical-align: middle;\n",
       "    }\n",
       "\n",
       "    .dataframe tbody tr th {\n",
       "        vertical-align: top;\n",
       "    }\n",
       "\n",
       "    .dataframe thead th {\n",
       "        text-align: right;\n",
       "    }\n",
       "</style>\n",
       "<table border=\"1\" class=\"dataframe\">\n",
       "  <thead>\n",
       "    <tr style=\"text-align: right;\">\n",
       "      <th></th>\n",
       "      <th>t</th>\n",
       "      <th>#</th>\n",
       "      <th>n</th>\n",
       "    </tr>\n",
       "  </thead>\n",
       "  <tbody>\n",
       "    <tr>\n",
       "      <th>0</th>\n",
       "      <td>0.0</td>\n",
       "      <td>0</td>\n",
       "      <td>42</td>\n",
       "    </tr>\n",
       "    <tr>\n",
       "      <th>1</th>\n",
       "      <td>0.0</td>\n",
       "      <td>1</td>\n",
       "      <td>42</td>\n",
       "    </tr>\n",
       "    <tr>\n",
       "      <th>2</th>\n",
       "      <td>0.0</td>\n",
       "      <td>10</td>\n",
       "      <td>42</td>\n",
       "    </tr>\n",
       "    <tr>\n",
       "      <th>3</th>\n",
       "      <td>0.0</td>\n",
       "      <td>11</td>\n",
       "      <td>42</td>\n",
       "    </tr>\n",
       "    <tr>\n",
       "      <th>4</th>\n",
       "      <td>0.0</td>\n",
       "      <td>12</td>\n",
       "      <td>42</td>\n",
       "    </tr>\n",
       "    <tr>\n",
       "      <th>...</th>\n",
       "      <td>...</td>\n",
       "      <td>...</td>\n",
       "      <td>...</td>\n",
       "    </tr>\n",
       "    <tr>\n",
       "      <th>2195</th>\n",
       "      <td>0.4</td>\n",
       "      <td>199</td>\n",
       "      <td>72</td>\n",
       "    </tr>\n",
       "    <tr>\n",
       "      <th>2196</th>\n",
       "      <td>0.3</td>\n",
       "      <td>199</td>\n",
       "      <td>47</td>\n",
       "    </tr>\n",
       "    <tr>\n",
       "      <th>2197</th>\n",
       "      <td>0.2</td>\n",
       "      <td>199</td>\n",
       "      <td>42</td>\n",
       "    </tr>\n",
       "    <tr>\n",
       "      <th>2198</th>\n",
       "      <td>0.1</td>\n",
       "      <td>199</td>\n",
       "      <td>42</td>\n",
       "    </tr>\n",
       "    <tr>\n",
       "      <th>2199</th>\n",
       "      <td>0.0</td>\n",
       "      <td>199</td>\n",
       "      <td>42</td>\n",
       "    </tr>\n",
       "  </tbody>\n",
       "</table>\n",
       "<p>2200 rows × 3 columns</p>\n",
       "</div>"
      ],
      "text/plain": [
       "        t    #   n\n",
       "0     0.0    0  42\n",
       "1     0.0    1  42\n",
       "2     0.0   10  42\n",
       "3     0.0   11  42\n",
       "4     0.0   12  42\n",
       "...   ...  ...  ..\n",
       "2195  0.4  199  72\n",
       "2196  0.3  199  47\n",
       "2197  0.2  199  42\n",
       "2198  0.1  199  42\n",
       "2199  0.0  199  42\n",
       "\n",
       "[2200 rows x 3 columns]"
      ]
     },
     "execution_count": 29,
     "metadata": {},
     "output_type": "execute_result"
    }
   ],
   "source": [
    "# Convert data into a Pandas DataFrame with columns \"t\" (for temperature), \"#\" for attempt, and \"n\" for the random number\n",
    "import pandas as pd\n",
    "df = pd.DataFrame([{\"t\": float(k.split(\",\")[0].split(\"=\")[1]), \"#\": int(k.split(\"#\")[1]), \"n\": int(v)} for k, v in data.items()])\n",
    "df"
   ]
  },
  {
   "cell_type": "code",
   "execution_count": 30,
   "metadata": {},
   "outputs": [
    {
     "data": {
      "image/png": "[encoded data removed]",
      "text/plain": [
       "<Figure size 1600x400 with 2 Axes>"
      ]
     },
     "metadata": {},
     "output_type": "display_data"
    }
   ],
   "source": [
    "# Draw a heatmap of the random numbers. X-axis is the random number n, Y-axis is the temperature t, and the color is the frequency of that random number at that temperature.\n",
    "import seaborn as sns\n",
    "import matplotlib.pyplot as plt\n",
    "plt.figure(figsize=(16, 4))\n",
    "pivot = df.pivot_table(index=\"t\", columns=\"n\", values=\"#\", aggfunc=\"count\").fillna(0)\n",
    "sns.heatmap(pivot, cmap=\"viridis\", cbar_kws={'label': 'Frequency of random number'})\n",
    "plt.show()"
   ]
  },
  {
   "cell_type": "code",
   "execution_count": 33,
   "metadata": {},
   "outputs": [
    {
     "data": {
      "text/plain": [
       "42    1099\n",
       "47     365\n",
       "57     236\n",
       "67      81\n",
       "72      56\n",
       "73      56\n",
       "45      37\n",
       "87      27\n",
       "54      24\n",
       "37      16\n",
       "78      15\n",
       "48      14\n",
       "63      13\n",
       "56      13\n",
       "64      12\n",
       "74       9\n",
       "43       9\n",
       "65       9\n",
       "27       9\n",
       "84       8\n",
       "46       8\n",
       "76       7\n",
       "52       6\n",
       "58       6\n",
       "53       6\n",
       "59       5\n",
       "62       5\n",
       "49       5\n",
       "75       5\n",
       "68       5\n",
       "82       5\n",
       "83       4\n",
       "86       3\n",
       "34       3\n",
       "79       3\n",
       "77       2\n",
       "29       2\n",
       "33       2\n",
       "85       2\n",
       "26       1\n",
       "71       1\n",
       "69       1\n",
       "32       1\n",
       "41       1\n",
       "23       1\n",
       "38       1\n",
       "24       1\n",
       "Name: n, dtype: int64"
      ]
     },
     "execution_count": 33,
     "metadata": {},
     "output_type": "execute_result"
    }
   ],
   "source": [
    "df['n'].value_counts()"
   ]
  },
  {
   "cell_type": "markdown",
   "metadata": {},
   "source": [
    "Claude 3 Haiku\n",
    "\n",
    "- Clearly prefers 42!\n",
    "- Guesses numbers in a much smaller range (23-87) compared to OpenAI.\n",
    "- Prefers numbers ending with 7: 37, 47, 57, 67, also 27, 87, but not 77.\n",
    "- Prefers multiples of 9: 72, 45, 54, 63 are pretty popular."
   ]
  }
 ],
 "metadata": {
  "kernelspec": {
   "display_name": "gramex39",
   "language": "python",
   "name": "python3"
  },
  "language_info": {
   "codemirror_mode": {
    "name": "ipython",
    "version": 3
   },
   "file_extension": ".py",
   "mimetype": "text/x-python",
   "name": "python",
   "nbconvert_exporter": "python",
   "pygments_lexer": "ipython3",
   "version": "3.9.13"
  }
 },
 "nbformat": 4,
 "nbformat_minor": 2
}
